{
 "cells": [
  {
   "cell_type": "code",
   "execution_count": 1,
   "id": "b0211c6d",
   "metadata": {},
   "outputs": [],
   "source": [
    "import pandas as pd"
   ]
  },
  {
   "cell_type": "code",
   "execution_count": 2,
   "id": "17bf972c",
   "metadata": {},
   "outputs": [],
   "source": [
    "member = pd.Series(['홍','전', '강', '스'])"
   ]
  },
  {
   "cell_type": "code",
   "execution_count": 3,
   "id": "5db884c7",
   "metadata": {},
   "outputs": [
    {
     "data": {
      "text/plain": [
       "0    홍\n",
       "1    전\n",
       "2    강\n",
       "3    스\n",
       "dtype: object"
      ]
     },
     "execution_count": 3,
     "metadata": {},
     "output_type": "execute_result"
    }
   ],
   "source": [
    "member"
   ]
  },
  {
   "cell_type": "code",
   "execution_count": 4,
   "id": "6278e4ed",
   "metadata": {},
   "outputs": [
    {
     "data": {
      "text/plain": [
       "'전'"
      ]
     },
     "execution_count": 4,
     "metadata": {},
     "output_type": "execute_result"
    }
   ],
   "source": [
    "member[1]"
   ]
  },
  {
   "cell_type": "code",
   "execution_count": 5,
   "id": "c8a84bfb",
   "metadata": {},
   "outputs": [],
   "source": [
    "member = pd.Series(['홍','전','강','스'],\n",
    "                  index = ['1번','2번','3번','4번'])"
   ]
  },
  {
   "cell_type": "code",
   "execution_count": 6,
   "id": "e66be171",
   "metadata": {},
   "outputs": [
    {
     "data": {
      "text/plain": [
       "1번    홍\n",
       "2번    전\n",
       "3번    강\n",
       "4번    스\n",
       "dtype: object"
      ]
     },
     "execution_count": 6,
     "metadata": {},
     "output_type": "execute_result"
    }
   ],
   "source": [
    "member"
   ]
  },
  {
   "cell_type": "code",
   "execution_count": 7,
   "id": "fbd2a3be",
   "metadata": {},
   "outputs": [],
   "source": [
    "sal_1 = { '홍': 100, '일' : 130, '전' : 120}"
   ]
  },
  {
   "cell_type": "code",
   "execution_count": 10,
   "id": "d749570b",
   "metadata": {},
   "outputs": [],
   "source": [
    "sal_2 = pd.Series(sal_1)"
   ]
  },
  {
   "cell_type": "code",
   "execution_count": 11,
   "id": "b51dc3f0",
   "metadata": {},
   "outputs": [
    {
     "data": {
      "text/plain": [
       "홍    100\n",
       "일    130\n",
       "전    120\n",
       "dtype: int64"
      ]
     },
     "execution_count": 11,
     "metadata": {},
     "output_type": "execute_result"
    }
   ],
   "source": [
    "sal_2"
   ]
  },
  {
   "cell_type": "code",
   "execution_count": 12,
   "id": "232a138a",
   "metadata": {},
   "outputs": [
    {
     "data": {
      "text/plain": [
       "1번    홍\n",
       "2번    전\n",
       "3번    강\n",
       "4번    스\n",
       "dtype: object"
      ]
     },
     "execution_count": 12,
     "metadata": {},
     "output_type": "execute_result"
    }
   ],
   "source": [
    "member"
   ]
  },
  {
   "cell_type": "code",
   "execution_count": 13,
   "id": "d5fd4f2f",
   "metadata": {},
   "outputs": [
    {
     "data": {
      "text/plain": [
       "'홍'"
      ]
     },
     "execution_count": 13,
     "metadata": {},
     "output_type": "execute_result"
    }
   ],
   "source": [
    "member[0]"
   ]
  },
  {
   "cell_type": "code",
   "execution_count": 14,
   "id": "b90b8934",
   "metadata": {},
   "outputs": [
    {
     "data": {
      "text/plain": [
       "'홍'"
      ]
     },
     "execution_count": 14,
     "metadata": {},
     "output_type": "execute_result"
    }
   ],
   "source": [
    "member['1번']"
   ]
  },
  {
   "cell_type": "code",
   "execution_count": 15,
   "id": "36652a7b",
   "metadata": {},
   "outputs": [
    {
     "data": {
      "text/plain": [
       "1번    홍\n",
       "3번    강\n",
       "dtype: object"
      ]
     },
     "execution_count": 15,
     "metadata": {},
     "output_type": "execute_result"
    }
   ],
   "source": [
    "member[['1번', '3번']]"
   ]
  },
  {
   "cell_type": "code",
   "execution_count": 16,
   "id": "834fb623",
   "metadata": {},
   "outputs": [
    {
     "data": {
      "text/plain": [
       "1번    홍\n",
       "2번    전\n",
       "3번    강\n",
       "dtype: object"
      ]
     },
     "execution_count": 16,
     "metadata": {},
     "output_type": "execute_result"
    }
   ],
   "source": [
    "member[:3]"
   ]
  },
  {
   "cell_type": "code",
   "execution_count": 17,
   "id": "e4f5ffdc",
   "metadata": {},
   "outputs": [
    {
     "data": {
      "text/plain": [
       "1번    홍\n",
       "3번    강\n",
       "dtype: object"
      ]
     },
     "execution_count": 17,
     "metadata": {},
     "output_type": "execute_result"
    }
   ],
   "source": [
    "member[:3:2]"
   ]
  },
  {
   "cell_type": "code",
   "execution_count": 18,
   "id": "4e18cb12",
   "metadata": {},
   "outputs": [
    {
     "data": {
      "text/plain": [
       "홍    100\n",
       "일    130\n",
       "전    120\n",
       "dtype: int64"
      ]
     },
     "execution_count": 18,
     "metadata": {},
     "output_type": "execute_result"
    }
   ],
   "source": [
    "sal_2"
   ]
  },
  {
   "cell_type": "code",
   "execution_count": 19,
   "id": "0a92c131",
   "metadata": {},
   "outputs": [],
   "source": [
    "sal_3 = {'홍' : 10, '전' : 12, '강' : 20}"
   ]
  },
  {
   "cell_type": "code",
   "execution_count": 21,
   "id": "0e05b7d8",
   "metadata": {},
   "outputs": [],
   "source": [
    "sal_4 = pd.Series(sal_3)"
   ]
  },
  {
   "cell_type": "code",
   "execution_count": 22,
   "id": "a1484fed",
   "metadata": {},
   "outputs": [
    {
     "data": {
      "text/plain": [
       "{'홍': 10, '전': 12, '강': 20}"
      ]
     },
     "execution_count": 22,
     "metadata": {},
     "output_type": "execute_result"
    }
   ],
   "source": [
    "sal_3"
   ]
  },
  {
   "cell_type": "code",
   "execution_count": 23,
   "id": "de538e1d",
   "metadata": {},
   "outputs": [
    {
     "data": {
      "text/plain": [
       "홍    10\n",
       "전    12\n",
       "강    20\n",
       "dtype: int64"
      ]
     },
     "execution_count": 23,
     "metadata": {},
     "output_type": "execute_result"
    }
   ],
   "source": [
    "sal_4"
   ]
  },
  {
   "cell_type": "code",
   "execution_count": 24,
   "id": "6af778bf",
   "metadata": {},
   "outputs": [
    {
     "name": "stdout",
     "output_type": "stream",
     "text": [
      "강      NaN\n",
      "일      NaN\n",
      "전    132.0\n",
      "홍    110.0\n",
      "dtype: float64\n"
     ]
    }
   ],
   "source": [
    "print(sal_2 + sal_4)"
   ]
  },
  {
   "cell_type": "code",
   "execution_count": 25,
   "id": "d25adf3b",
   "metadata": {},
   "outputs": [
    {
     "name": "stdout",
     "output_type": "stream",
     "text": [
      "강      NaN\n",
      "일      NaN\n",
      "전   -108.0\n",
      "홍    -90.0\n",
      "dtype: float64\n"
     ]
    }
   ],
   "source": [
    "print(sal_4 - sal_2)"
   ]
  },
  {
   "cell_type": "code",
   "execution_count": 26,
   "id": "734fa8d7",
   "metadata": {},
   "outputs": [],
   "source": [
    "member3 = {'번호' : ['1번', '2번', '3번'],\n",
    "           '이름' : ['홍', '전', '강'], \n",
    "           '생일' : [1975, 1980, 1992]}"
   ]
  },
  {
   "cell_type": "code",
   "execution_count": 27,
   "id": "65f682bd",
   "metadata": {},
   "outputs": [
    {
     "data": {
      "text/plain": [
       "{'번호': ['1번', '2번', '3번'], '이름': ['홍', '전', '강'], '생일': [1975, 1980, 1992]}"
      ]
     },
     "execution_count": 27,
     "metadata": {},
     "output_type": "execute_result"
    }
   ],
   "source": [
    "member3"
   ]
  },
  {
   "cell_type": "code",
   "execution_count": 28,
   "id": "282b10c8",
   "metadata": {},
   "outputs": [],
   "source": [
    "member4 = pd.DataFrame(member3)"
   ]
  },
  {
   "cell_type": "code",
   "execution_count": 29,
   "id": "e96ab691",
   "metadata": {},
   "outputs": [
    {
     "data": {
      "text/html": [
       "<div>\n",
       "<style scoped>\n",
       "    .dataframe tbody tr th:only-of-type {\n",
       "        vertical-align: middle;\n",
       "    }\n",
       "\n",
       "    .dataframe tbody tr th {\n",
       "        vertical-align: top;\n",
       "    }\n",
       "\n",
       "    .dataframe thead th {\n",
       "        text-align: right;\n",
       "    }\n",
       "</style>\n",
       "<table border=\"1\" class=\"dataframe\">\n",
       "  <thead>\n",
       "    <tr style=\"text-align: right;\">\n",
       "      <th></th>\n",
       "      <th>번호</th>\n",
       "      <th>이름</th>\n",
       "      <th>생일</th>\n",
       "    </tr>\n",
       "  </thead>\n",
       "  <tbody>\n",
       "    <tr>\n",
       "      <th>0</th>\n",
       "      <td>1번</td>\n",
       "      <td>홍</td>\n",
       "      <td>1975</td>\n",
       "    </tr>\n",
       "    <tr>\n",
       "      <th>1</th>\n",
       "      <td>2번</td>\n",
       "      <td>전</td>\n",
       "      <td>1980</td>\n",
       "    </tr>\n",
       "    <tr>\n",
       "      <th>2</th>\n",
       "      <td>3번</td>\n",
       "      <td>강</td>\n",
       "      <td>1992</td>\n",
       "    </tr>\n",
       "  </tbody>\n",
       "</table>\n",
       "</div>"
      ],
      "text/plain": [
       "   번호 이름    생일\n",
       "0  1번  홍  1975\n",
       "1  2번  전  1980\n",
       "2  3번  강  1992"
      ]
     },
     "execution_count": 29,
     "metadata": {},
     "output_type": "execute_result"
    }
   ],
   "source": [
    "member4"
   ]
  },
  {
   "cell_type": "code",
   "execution_count": 30,
   "id": "325ce18e",
   "metadata": {},
   "outputs": [],
   "source": [
    "member5 = pd.DataFrame(member3, columns = ['이름', '번호', '생일'])"
   ]
  },
  {
   "cell_type": "code",
   "execution_count": 31,
   "id": "60d2aa16",
   "metadata": {},
   "outputs": [
    {
     "data": {
      "text/html": [
       "<div>\n",
       "<style scoped>\n",
       "    .dataframe tbody tr th:only-of-type {\n",
       "        vertical-align: middle;\n",
       "    }\n",
       "\n",
       "    .dataframe tbody tr th {\n",
       "        vertical-align: top;\n",
       "    }\n",
       "\n",
       "    .dataframe thead th {\n",
       "        text-align: right;\n",
       "    }\n",
       "</style>\n",
       "<table border=\"1\" class=\"dataframe\">\n",
       "  <thead>\n",
       "    <tr style=\"text-align: right;\">\n",
       "      <th></th>\n",
       "      <th>이름</th>\n",
       "      <th>번호</th>\n",
       "      <th>생일</th>\n",
       "    </tr>\n",
       "  </thead>\n",
       "  <tbody>\n",
       "    <tr>\n",
       "      <th>0</th>\n",
       "      <td>홍</td>\n",
       "      <td>1번</td>\n",
       "      <td>1975</td>\n",
       "    </tr>\n",
       "    <tr>\n",
       "      <th>1</th>\n",
       "      <td>전</td>\n",
       "      <td>2번</td>\n",
       "      <td>1980</td>\n",
       "    </tr>\n",
       "    <tr>\n",
       "      <th>2</th>\n",
       "      <td>강</td>\n",
       "      <td>3번</td>\n",
       "      <td>1992</td>\n",
       "    </tr>\n",
       "  </tbody>\n",
       "</table>\n",
       "</div>"
      ],
      "text/plain": [
       "  이름  번호    생일\n",
       "0  홍  1번  1975\n",
       "1  전  2번  1980\n",
       "2  강  3번  1992"
      ]
     },
     "execution_count": 31,
     "metadata": {},
     "output_type": "execute_result"
    }
   ],
   "source": [
    "member5"
   ]
  },
  {
   "cell_type": "code",
   "execution_count": 32,
   "id": "2d42f054",
   "metadata": {},
   "outputs": [
    {
     "data": {
      "text/plain": [
       "0    1975\n",
       "1    1980\n",
       "2    1992\n",
       "Name: 생일, dtype: int64"
      ]
     },
     "execution_count": 32,
     "metadata": {},
     "output_type": "execute_result"
    }
   ],
   "source": [
    "member5['생일']"
   ]
  },
  {
   "cell_type": "code",
   "execution_count": 35,
   "id": "2e87cf43",
   "metadata": {},
   "outputs": [
    {
     "data": {
      "text/html": [
       "<div>\n",
       "<style scoped>\n",
       "    .dataframe tbody tr th:only-of-type {\n",
       "        vertical-align: middle;\n",
       "    }\n",
       "\n",
       "    .dataframe tbody tr th {\n",
       "        vertical-align: top;\n",
       "    }\n",
       "\n",
       "    .dataframe thead th {\n",
       "        text-align: right;\n",
       "    }\n",
       "</style>\n",
       "<table border=\"1\" class=\"dataframe\">\n",
       "  <thead>\n",
       "    <tr style=\"text-align: right;\">\n",
       "      <th></th>\n",
       "      <th>이름</th>\n",
       "      <th>생일</th>\n",
       "    </tr>\n",
       "  </thead>\n",
       "  <tbody>\n",
       "    <tr>\n",
       "      <th>0</th>\n",
       "      <td>홍</td>\n",
       "      <td>1975</td>\n",
       "    </tr>\n",
       "    <tr>\n",
       "      <th>1</th>\n",
       "      <td>전</td>\n",
       "      <td>1980</td>\n",
       "    </tr>\n",
       "    <tr>\n",
       "      <th>2</th>\n",
       "      <td>강</td>\n",
       "      <td>1992</td>\n",
       "    </tr>\n",
       "  </tbody>\n",
       "</table>\n",
       "</div>"
      ],
      "text/plain": [
       "  이름    생일\n",
       "0  홍  1975\n",
       "1  전  1980\n",
       "2  강  1992"
      ]
     },
     "execution_count": 35,
     "metadata": {},
     "output_type": "execute_result"
    }
   ],
   "source": [
    "member5[['이름','생일']]"
   ]
  },
  {
   "cell_type": "code",
   "execution_count": 39,
   "id": "46ee62d8",
   "metadata": {},
   "outputs": [
    {
     "data": {
      "text/html": [
       "<div>\n",
       "<style scoped>\n",
       "    .dataframe tbody tr th:only-of-type {\n",
       "        vertical-align: middle;\n",
       "    }\n",
       "\n",
       "    .dataframe tbody tr th {\n",
       "        vertical-align: top;\n",
       "    }\n",
       "\n",
       "    .dataframe thead th {\n",
       "        text-align: right;\n",
       "    }\n",
       "</style>\n",
       "<table border=\"1\" class=\"dataframe\">\n",
       "  <thead>\n",
       "    <tr style=\"text-align: right;\">\n",
       "      <th></th>\n",
       "      <th>이름</th>\n",
       "      <th>번호</th>\n",
       "      <th>생일</th>\n",
       "    </tr>\n",
       "  </thead>\n",
       "  <tbody>\n",
       "    <tr>\n",
       "      <th>0</th>\n",
       "      <td>홍</td>\n",
       "      <td>1번</td>\n",
       "      <td>1975</td>\n",
       "    </tr>\n",
       "  </tbody>\n",
       "</table>\n",
       "</div>"
      ],
      "text/plain": [
       "  이름  번호    생일\n",
       "0  홍  1번  1975"
      ]
     },
     "execution_count": 39,
     "metadata": {},
     "output_type": "execute_result"
    }
   ],
   "source": [
    "member5.loc[[0]]"
   ]
  },
  {
   "cell_type": "code",
   "execution_count": 40,
   "id": "445dd545",
   "metadata": {},
   "outputs": [
    {
     "data": {
      "text/plain": [
       "이름       홍\n",
       "번호      1번\n",
       "생일    1975\n",
       "Name: 0, dtype: object"
      ]
     },
     "execution_count": 40,
     "metadata": {},
     "output_type": "execute_result"
    }
   ],
   "source": [
    "member5.loc[0]"
   ]
  },
  {
   "cell_type": "code",
   "execution_count": 41,
   "id": "4a77d86b",
   "metadata": {},
   "outputs": [
    {
     "data": {
      "text/html": [
       "<div>\n",
       "<style scoped>\n",
       "    .dataframe tbody tr th:only-of-type {\n",
       "        vertical-align: middle;\n",
       "    }\n",
       "\n",
       "    .dataframe tbody tr th {\n",
       "        vertical-align: top;\n",
       "    }\n",
       "\n",
       "    .dataframe thead th {\n",
       "        text-align: right;\n",
       "    }\n",
       "</style>\n",
       "<table border=\"1\" class=\"dataframe\">\n",
       "  <thead>\n",
       "    <tr style=\"text-align: right;\">\n",
       "      <th></th>\n",
       "      <th>이름</th>\n",
       "      <th>번호</th>\n",
       "      <th>생일</th>\n",
       "    </tr>\n",
       "  </thead>\n",
       "  <tbody>\n",
       "    <tr>\n",
       "      <th>1</th>\n",
       "      <td>전</td>\n",
       "      <td>2번</td>\n",
       "      <td>1980</td>\n",
       "    </tr>\n",
       "    <tr>\n",
       "      <th>2</th>\n",
       "      <td>강</td>\n",
       "      <td>3번</td>\n",
       "      <td>1992</td>\n",
       "    </tr>\n",
       "  </tbody>\n",
       "</table>\n",
       "</div>"
      ],
      "text/plain": [
       "  이름  번호    생일\n",
       "1  전  2번  1980\n",
       "2  강  3번  1992"
      ]
     },
     "execution_count": 41,
     "metadata": {},
     "output_type": "execute_result"
    }
   ],
   "source": [
    "member5.loc[member5['번호'] >= '2번']"
   ]
  },
  {
   "cell_type": "code",
   "execution_count": 42,
   "id": "8b2d6496",
   "metadata": {},
   "outputs": [],
   "source": [
    "member6 = {'번호' : ['1번','2번','3번','4번','5번'], \n",
    "           '이름' : ['홍', '전', ' 강', ' 홍', '일'], \n",
    "           '매출' : [100, 200, 250, 300, 150]}"
   ]
  },
  {
   "cell_type": "code",
   "execution_count": 45,
   "id": "f18da279",
   "metadata": {},
   "outputs": [],
   "source": [
    "member7 = pd.DataFrame(member6, columns = ['번호', '이름', '매출'])"
   ]
  },
  {
   "cell_type": "code",
   "execution_count": 46,
   "id": "00ddd784",
   "metadata": {},
   "outputs": [
    {
     "data": {
      "text/html": [
       "<div>\n",
       "<style scoped>\n",
       "    .dataframe tbody tr th:only-of-type {\n",
       "        vertical-align: middle;\n",
       "    }\n",
       "\n",
       "    .dataframe tbody tr th {\n",
       "        vertical-align: top;\n",
       "    }\n",
       "\n",
       "    .dataframe thead th {\n",
       "        text-align: right;\n",
       "    }\n",
       "</style>\n",
       "<table border=\"1\" class=\"dataframe\">\n",
       "  <thead>\n",
       "    <tr style=\"text-align: right;\">\n",
       "      <th></th>\n",
       "      <th>번호</th>\n",
       "      <th>이름</th>\n",
       "      <th>매출</th>\n",
       "    </tr>\n",
       "  </thead>\n",
       "  <tbody>\n",
       "    <tr>\n",
       "      <th>0</th>\n",
       "      <td>1번</td>\n",
       "      <td>홍</td>\n",
       "      <td>100</td>\n",
       "    </tr>\n",
       "    <tr>\n",
       "      <th>1</th>\n",
       "      <td>2번</td>\n",
       "      <td>전</td>\n",
       "      <td>200</td>\n",
       "    </tr>\n",
       "    <tr>\n",
       "      <th>2</th>\n",
       "      <td>3번</td>\n",
       "      <td>강</td>\n",
       "      <td>250</td>\n",
       "    </tr>\n",
       "    <tr>\n",
       "      <th>3</th>\n",
       "      <td>4번</td>\n",
       "      <td>홍</td>\n",
       "      <td>300</td>\n",
       "    </tr>\n",
       "    <tr>\n",
       "      <th>4</th>\n",
       "      <td>5번</td>\n",
       "      <td>일</td>\n",
       "      <td>150</td>\n",
       "    </tr>\n",
       "  </tbody>\n",
       "</table>\n",
       "</div>"
      ],
      "text/plain": [
       "   번호  이름   매출\n",
       "0  1번   홍  100\n",
       "1  2번   전  200\n",
       "2  3번   강  250\n",
       "3  4번   홍  300\n",
       "4  5번   일  150"
      ]
     },
     "execution_count": 46,
     "metadata": {},
     "output_type": "execute_result"
    }
   ],
   "source": [
    "member7"
   ]
  },
  {
   "cell_type": "code",
   "execution_count": 53,
   "id": "22e8624b",
   "metadata": {},
   "outputs": [
    {
     "data": {
      "text/html": [
       "<div>\n",
       "<style scoped>\n",
       "    .dataframe tbody tr th:only-of-type {\n",
       "        vertical-align: middle;\n",
       "    }\n",
       "\n",
       "    .dataframe tbody tr th {\n",
       "        vertical-align: top;\n",
       "    }\n",
       "\n",
       "    .dataframe thead th {\n",
       "        text-align: right;\n",
       "    }\n",
       "</style>\n",
       "<table border=\"1\" class=\"dataframe\">\n",
       "  <thead>\n",
       "    <tr style=\"text-align: right;\">\n",
       "      <th></th>\n",
       "      <th>번호</th>\n",
       "      <th>이름</th>\n",
       "      <th>매출</th>\n",
       "    </tr>\n",
       "  </thead>\n",
       "  <tbody>\n",
       "    <tr>\n",
       "      <th>0</th>\n",
       "      <td>1번</td>\n",
       "      <td>홍</td>\n",
       "      <td>100</td>\n",
       "    </tr>\n",
       "    <tr>\n",
       "      <th>1</th>\n",
       "      <td>2번</td>\n",
       "      <td>전</td>\n",
       "      <td>200</td>\n",
       "    </tr>\n",
       "    <tr>\n",
       "      <th>4</th>\n",
       "      <td>5번</td>\n",
       "      <td>일</td>\n",
       "      <td>150</td>\n",
       "    </tr>\n",
       "  </tbody>\n",
       "</table>\n",
       "</div>"
      ],
      "text/plain": [
       "   번호 이름   매출\n",
       "0  1번  홍  100\n",
       "1  2번  전  200\n",
       "4  5번  일  150"
      ]
     },
     "execution_count": 53,
     "metadata": {},
     "output_type": "execute_result"
    }
   ],
   "source": [
    "member7.loc[(member7['매출'] >= 100) & (member7['매출'] <= 200)]"
   ]
  },
  {
   "cell_type": "code",
   "execution_count": 54,
   "id": "f5cc80f7",
   "metadata": {},
   "outputs": [],
   "source": [
    "member8 = pd.DataFrame(member5, columns = ['번호', '이름', '생일', '지역'])"
   ]
  },
  {
   "cell_type": "code",
   "execution_count": 55,
   "id": "8c938bcc",
   "metadata": {},
   "outputs": [
    {
     "data": {
      "text/html": [
       "<div>\n",
       "<style scoped>\n",
       "    .dataframe tbody tr th:only-of-type {\n",
       "        vertical-align: middle;\n",
       "    }\n",
       "\n",
       "    .dataframe tbody tr th {\n",
       "        vertical-align: top;\n",
       "    }\n",
       "\n",
       "    .dataframe thead th {\n",
       "        text-align: right;\n",
       "    }\n",
       "</style>\n",
       "<table border=\"1\" class=\"dataframe\">\n",
       "  <thead>\n",
       "    <tr style=\"text-align: right;\">\n",
       "      <th></th>\n",
       "      <th>번호</th>\n",
       "      <th>이름</th>\n",
       "      <th>생일</th>\n",
       "      <th>지역</th>\n",
       "    </tr>\n",
       "  </thead>\n",
       "  <tbody>\n",
       "    <tr>\n",
       "      <th>0</th>\n",
       "      <td>1번</td>\n",
       "      <td>홍</td>\n",
       "      <td>1975</td>\n",
       "      <td>NaN</td>\n",
       "    </tr>\n",
       "    <tr>\n",
       "      <th>1</th>\n",
       "      <td>2번</td>\n",
       "      <td>전</td>\n",
       "      <td>1980</td>\n",
       "      <td>NaN</td>\n",
       "    </tr>\n",
       "    <tr>\n",
       "      <th>2</th>\n",
       "      <td>3번</td>\n",
       "      <td>강</td>\n",
       "      <td>1992</td>\n",
       "      <td>NaN</td>\n",
       "    </tr>\n",
       "  </tbody>\n",
       "</table>\n",
       "</div>"
      ],
      "text/plain": [
       "   번호 이름    생일  지역\n",
       "0  1번  홍  1975 NaN\n",
       "1  2번  전  1980 NaN\n",
       "2  3번  강  1992 NaN"
      ]
     },
     "execution_count": 55,
     "metadata": {},
     "output_type": "execute_result"
    }
   ],
   "source": [
    "member8"
   ]
  },
  {
   "cell_type": "code",
   "execution_count": 56,
   "id": "db38cbbc",
   "metadata": {},
   "outputs": [],
   "source": [
    "member8['지역'] = ['서울','부산','대전']"
   ]
  },
  {
   "cell_type": "code",
   "execution_count": 57,
   "id": "0419e4f9",
   "metadata": {},
   "outputs": [
    {
     "data": {
      "text/html": [
       "<div>\n",
       "<style scoped>\n",
       "    .dataframe tbody tr th:only-of-type {\n",
       "        vertical-align: middle;\n",
       "    }\n",
       "\n",
       "    .dataframe tbody tr th {\n",
       "        vertical-align: top;\n",
       "    }\n",
       "\n",
       "    .dataframe thead th {\n",
       "        text-align: right;\n",
       "    }\n",
       "</style>\n",
       "<table border=\"1\" class=\"dataframe\">\n",
       "  <thead>\n",
       "    <tr style=\"text-align: right;\">\n",
       "      <th></th>\n",
       "      <th>번호</th>\n",
       "      <th>이름</th>\n",
       "      <th>생일</th>\n",
       "      <th>지역</th>\n",
       "    </tr>\n",
       "  </thead>\n",
       "  <tbody>\n",
       "    <tr>\n",
       "      <th>0</th>\n",
       "      <td>1번</td>\n",
       "      <td>홍</td>\n",
       "      <td>1975</td>\n",
       "      <td>서울</td>\n",
       "    </tr>\n",
       "    <tr>\n",
       "      <th>1</th>\n",
       "      <td>2번</td>\n",
       "      <td>전</td>\n",
       "      <td>1980</td>\n",
       "      <td>부산</td>\n",
       "    </tr>\n",
       "    <tr>\n",
       "      <th>2</th>\n",
       "      <td>3번</td>\n",
       "      <td>강</td>\n",
       "      <td>1992</td>\n",
       "      <td>대전</td>\n",
       "    </tr>\n",
       "  </tbody>\n",
       "</table>\n",
       "</div>"
      ],
      "text/plain": [
       "   번호 이름    생일  지역\n",
       "0  1번  홍  1975  서울\n",
       "1  2번  전  1980  부산\n",
       "2  3번  강  1992  대전"
      ]
     },
     "execution_count": 57,
     "metadata": {},
     "output_type": "execute_result"
    }
   ],
   "source": [
    "member8"
   ]
  },
  {
   "cell_type": "code",
   "execution_count": 58,
   "id": "3975115e",
   "metadata": {},
   "outputs": [],
   "source": [
    "member8.loc[3] = ['4번', '호', 1985, '대구']"
   ]
  },
  {
   "cell_type": "code",
   "execution_count": 59,
   "id": "9f077b1e",
   "metadata": {},
   "outputs": [
    {
     "data": {
      "text/html": [
       "<div>\n",
       "<style scoped>\n",
       "    .dataframe tbody tr th:only-of-type {\n",
       "        vertical-align: middle;\n",
       "    }\n",
       "\n",
       "    .dataframe tbody tr th {\n",
       "        vertical-align: top;\n",
       "    }\n",
       "\n",
       "    .dataframe thead th {\n",
       "        text-align: right;\n",
       "    }\n",
       "</style>\n",
       "<table border=\"1\" class=\"dataframe\">\n",
       "  <thead>\n",
       "    <tr style=\"text-align: right;\">\n",
       "      <th></th>\n",
       "      <th>번호</th>\n",
       "      <th>이름</th>\n",
       "      <th>생일</th>\n",
       "      <th>지역</th>\n",
       "    </tr>\n",
       "  </thead>\n",
       "  <tbody>\n",
       "    <tr>\n",
       "      <th>0</th>\n",
       "      <td>1번</td>\n",
       "      <td>홍</td>\n",
       "      <td>1975</td>\n",
       "      <td>서울</td>\n",
       "    </tr>\n",
       "    <tr>\n",
       "      <th>1</th>\n",
       "      <td>2번</td>\n",
       "      <td>전</td>\n",
       "      <td>1980</td>\n",
       "      <td>부산</td>\n",
       "    </tr>\n",
       "    <tr>\n",
       "      <th>2</th>\n",
       "      <td>3번</td>\n",
       "      <td>강</td>\n",
       "      <td>1992</td>\n",
       "      <td>대전</td>\n",
       "    </tr>\n",
       "    <tr>\n",
       "      <th>3</th>\n",
       "      <td>4번</td>\n",
       "      <td>호</td>\n",
       "      <td>1985</td>\n",
       "      <td>대구</td>\n",
       "    </tr>\n",
       "  </tbody>\n",
       "</table>\n",
       "</div>"
      ],
      "text/plain": [
       "   번호 이름    생일  지역\n",
       "0  1번  홍  1975  서울\n",
       "1  2번  전  1980  부산\n",
       "2  3번  강  1992  대전\n",
       "3  4번  호  1985  대구"
      ]
     },
     "execution_count": 59,
     "metadata": {},
     "output_type": "execute_result"
    }
   ],
   "source": [
    "member8"
   ]
  },
  {
   "cell_type": "code",
   "execution_count": 62,
   "id": "29c6c008",
   "metadata": {},
   "outputs": [
    {
     "data": {
      "text/html": [
       "<div>\n",
       "<style scoped>\n",
       "    .dataframe tbody tr th:only-of-type {\n",
       "        vertical-align: middle;\n",
       "    }\n",
       "\n",
       "    .dataframe tbody tr th {\n",
       "        vertical-align: top;\n",
       "    }\n",
       "\n",
       "    .dataframe thead th {\n",
       "        text-align: right;\n",
       "    }\n",
       "</style>\n",
       "<table border=\"1\" class=\"dataframe\">\n",
       "  <thead>\n",
       "    <tr style=\"text-align: right;\">\n",
       "      <th></th>\n",
       "      <th>번호</th>\n",
       "      <th>이름</th>\n",
       "      <th>생일</th>\n",
       "      <th>지역</th>\n",
       "    </tr>\n",
       "  </thead>\n",
       "  <tbody>\n",
       "    <tr>\n",
       "      <th>0</th>\n",
       "      <td>1번</td>\n",
       "      <td>홍</td>\n",
       "      <td>1975</td>\n",
       "      <td>서울</td>\n",
       "    </tr>\n",
       "    <tr>\n",
       "      <th>1</th>\n",
       "      <td>2번</td>\n",
       "      <td>전</td>\n",
       "      <td>1980</td>\n",
       "      <td>부산</td>\n",
       "    </tr>\n",
       "  </tbody>\n",
       "</table>\n",
       "</div>"
      ],
      "text/plain": [
       "   번호 이름    생일  지역\n",
       "0  1번  홍  1975  서울\n",
       "1  2번  전  1980  부산"
      ]
     },
     "execution_count": 62,
     "metadata": {},
     "output_type": "execute_result"
    }
   ],
   "source": [
    "member8.drop(member8[member8.생일 > 1980].index)"
   ]
  },
  {
   "cell_type": "code",
   "execution_count": null,
   "id": "007f0c0b",
   "metadata": {},
   "outputs": [],
   "source": []
  }
 ],
 "metadata": {
  "kernelspec": {
   "display_name": "Python 3",
   "language": "python",
   "name": "python3"
  },
  "language_info": {
   "codemirror_mode": {
    "name": "ipython",
    "version": 3
   },
   "file_extension": ".py",
   "mimetype": "text/x-python",
   "name": "python",
   "nbconvert_exporter": "python",
   "pygments_lexer": "ipython3",
   "version": "3.8.8"
  }
 },
 "nbformat": 4,
 "nbformat_minor": 5
}
